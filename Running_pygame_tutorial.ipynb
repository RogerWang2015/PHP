{
  "nbformat": 4,
  "nbformat_minor": 0,
  "metadata": {
    "colab": {
      "provenance": [],
      "include_colab_link": true
    },
    "kernelspec": {
      "name": "python3",
      "display_name": "Python 3"
    }
  },
  "cells": [
    {
      "cell_type": "markdown",
      "metadata": {
        "id": "view-in-github",
        "colab_type": "text"
      },
      "source": [
        "<a href=\"https://colab.research.google.com/github/RogerWang2015/PHP/blob/master/Running_pygame_tutorial.ipynb\" target=\"_parent\"><img src=\"https://colab.research.google.com/assets/colab-badge.svg\" alt=\"Open In Colab\"/></a>"
      ]
    },
    {
      "cell_type": "markdown",
      "metadata": {
        "id": "Ll1FJKQcIlmt"
      },
      "source": [
        "##Install pygame"
      ]
    },
    {
      "cell_type": "code",
      "metadata": {
        "id": "trViUvbXAGlj",
        "colab": {
          "base_uri": "https://localhost:8080/"
        },
        "outputId": "80b736e8-986e-45cb-9da7-6690303c2d51"
      },
      "source": [
        "!pip install pygame"
      ],
      "execution_count": 2,
      "outputs": [
        {
          "output_type": "stream",
          "name": "stdout",
          "text": [
            "Requirement already satisfied: pygame in /usr/local/lib/python3.10/dist-packages (2.6.1)\n"
          ]
        }
      ]
    },
    {
      "cell_type": "markdown",
      "metadata": {
        "id": "wWRYdkJzIqW3"
      },
      "source": [
        "##Dependencies"
      ]
    },
    {
      "cell_type": "code",
      "metadata": {
        "id": "7X42jJWlAuSl"
      },
      "source": [
        "import cv2\n",
        "from google.colab.patches import cv2_imshow\n",
        "from google.colab import output\n",
        "import time\n",
        "import os, sys"
      ],
      "execution_count": 3,
      "outputs": []
    },
    {
      "cell_type": "markdown",
      "metadata": {
        "id": "jobbL8_pIuxP"
      },
      "source": [
        "##Fool system to think it has a video access"
      ]
    },
    {
      "cell_type": "code",
      "metadata": {
        "id": "bBd7TdlTAN9s"
      },
      "source": [
        "# set SDL to use the dummy NULL video driver,\n",
        "#   so it doesn't need a windowing system.\n",
        "os.environ[\"SDL_VIDEODRIVER\"] = \"dummy\""
      ],
      "execution_count": 4,
      "outputs": []
    },
    {
      "cell_type": "markdown",
      "metadata": {
        "id": "lFqI32cMI2vq"
      },
      "source": [
        "##Simple Pygame example"
      ]
    },
    {
      "cell_type": "markdown",
      "metadata": {
        "id": "zaOtyAurJGDR"
      },
      "source": [
        "##TODO\n",
        "\n",
        "1. Add a button to break the while loop."
      ]
    },
    {
      "cell_type": "code",
      "source": [
        "import pygame as pg\n",
        "\n",
        "import sys\n",
        "\n",
        "import time\n",
        "\n",
        "from pygame.locals import *"
      ],
      "metadata": {
        "id": "y-qNLVjSpYSV"
      },
      "execution_count": 7,
      "outputs": []
    },
    {
      "cell_type": "code",
      "source": [
        "\n",
        "# initialize variables\n",
        "\n",
        "current_player = 'x'\n",
        "\n",
        "current_winner = None\n",
        "\n",
        "is_draw = None\n",
        "\n",
        "\n",
        "\n",
        "WIDTH = 400\n",
        "\n",
        "HEIGHT = 400 # Add 100 later for the\n",
        "\n",
        "BACKGROUND = (255, 255, 255)\n",
        "\n",
        "LINE_COLOR = (0, 0, 0)\n",
        "\n",
        "\n",
        "\n",
        "\n",
        "\n",
        "grid = [[None]*3, [None]*3, [None]*3]\n",
        "\n",
        "\n",
        "\n",
        "pg.init()\n",
        "\n",
        "FPS = 30\n",
        "\n",
        "clock = pg.time.Clock()\n",
        "\n",
        "\n",
        "\n",
        "screen = pg.display.set_mode((WIDTH, HEIGHT + 100), 0, 32) # 400 x 500 display\n",
        "\n",
        "pg.display.set_caption(\"Tic Tac Toe\")\n",
        "\n",
        "\n",
        "\n",
        "size = 80 # size of the X / O marks"
      ],
      "metadata": {
        "id": "ZXSthNjJpzl3"
      },
      "execution_count": 8,
      "outputs": []
    },
    {
      "cell_type": "code",
      "source": [
        "def game_initiating_window():\n",
        "\n",
        "    \"\"\"initializes game window\"\"\"\n",
        "\n",
        "    pg.display.update()\n",
        "\n",
        "    time.sleep(3)\n",
        "\n",
        "    screen.fill(BACKGROUND)\n",
        "\n",
        "    pg.draw.line(screen, LINE_COLOR, (WIDTH / 3, 0), (WIDTH / 3, HEIGHT), 7)\n",
        "\n",
        "    pg.draw.line(screen, LINE_COLOR, (WIDTH / 3 * 2, 0), (WIDTH / 3 * 2, HEIGHT), 7)\n",
        "\n",
        "    pg.draw.line(screen, LINE_COLOR, (0, HEIGHT / 3), (WIDTH, HEIGHT / 3), 7)\n",
        "\n",
        "    pg.draw.line(screen, LINE_COLOR, (0, HEIGHT / 3 * 2), (WIDTH, HEIGHT / 3 * 2), 7)\n",
        "\n",
        "    draw_status()"
      ],
      "metadata": {
        "id": "VBGla2UPp5uh"
      },
      "execution_count": 10,
      "outputs": []
    },
    {
      "cell_type": "code",
      "source": [
        "def draw_status():\n",
        "\n",
        "    \"\"\"draws the status bar\"\"\"\n",
        "\n",
        "    global is_draw\n",
        "\n",
        "    if current_winner is None:\n",
        "\n",
        "        message = current_player.upper() + \"'s Turn\"\n",
        "\n",
        "    else:\n",
        "\n",
        "        message = current_winner.upper() + \" won !\"\n",
        "\n",
        "    if is_draw:\n",
        "\n",
        "        message = \"Game Draw !\"\n",
        "\n",
        "    font = pg.font.Font(None, 30)\n",
        "\n",
        "    text = font.render(message, 1, (255, 255, 255))\n",
        "\n",
        "    screen.fill((0, 0, 0), (0, 400, 475, 100))\n",
        "\n",
        "    text_rect = text.get_rect(center=(WIDTH / 2, HEIGHT/2))\n",
        "\n",
        "    screen.blit(text, text_rect)\n",
        "\n",
        "    pg.display.update()"
      ],
      "metadata": {
        "id": "6Ek9oGUmqLGf"
      },
      "execution_count": 11,
      "outputs": []
    },
    {
      "cell_type": "code",
      "source": [
        "def check_win():\n",
        "\n",
        "    \"\"\"checks game grid for wins or draws\"\"\"\n",
        "\n",
        "    global grid, current_winner, is_draw\n",
        "\n",
        "    for row in range(0, 3):\n",
        "\n",
        "        if (grid[row][0] == grid[row][1] == grid[row][2]) and (grid[row][0] is not None):\n",
        "\n",
        "            current_winner = grid[row][0]\n",
        "\n",
        "            pg.draw.line(screen, (250, 0, 0),\n",
        "\n",
        "                         (0, (row + 1)*HEIGHT / 3 - HEIGHT / 6),\n",
        "\n",
        "                         (WIDTH, (row + 1)*HEIGHT / 3 - HEIGHT / 6), 4)\n",
        "\n",
        "            break\n",
        "\n",
        "    for col in range(0, 3):\n",
        "\n",
        "        if (grid[0][col] == grid[1][col] == grid[2][col]) and (grid[0][col] is not None):\n",
        "\n",
        "            current_winner = grid[0][col]\n",
        "\n",
        "            pg.draw.line(screen, (250, 0, 0),\n",
        "\n",
        "                         ((col + 1) * WIDTH / 3 - WIDTH / 6, 0),\n",
        "\n",
        "                         ((col + 1) * WIDTH / 3 - WIDTH / 6, HEIGHT), 4)\n",
        "\n",
        "            break\n",
        "\n",
        "    if (grid[0][0] == grid[1][1] == grid[2][2]) and (grid[0][0] is not None):\n",
        "\n",
        "        current_winner = grid[0][0]\n",
        "\n",
        "        pg.draw.line(screen, (250, 70, 70), (50, 50), (350, 350), 4)\n",
        "\n",
        "    if (grid[0][2] == grid[1][1] == grid[2][0]) and (grid[0][2] is not None):\n",
        "\n",
        "        current_winner = grid[0][2]\n",
        "\n",
        "        pg.draw.line(screen, (250, 70, 70), (350, 50), (50, 350), 4)\n",
        "\n",
        "    if (all([all(row) for row in grid]) and current_winner is None):\n",
        "\n",
        "        is_draw = True\n",
        "\n",
        "    draw_status()"
      ],
      "metadata": {
        "id": "27GLjip4qanX"
      },
      "execution_count": 12,
      "outputs": []
    },
    {
      "cell_type": "code",
      "source": [
        "def drawXO(row, col):\n",
        "\n",
        "    \"\"\"draws the X's and O's on the board\"\"\"\n",
        "\n",
        "    global grid, current_player\n",
        "\n",
        "    if row == 1:\n",
        "\n",
        "        pos_x = 50\n",
        "\n",
        "    if row == 2:\n",
        "\n",
        "        pos_x = WIDTH / 3 + 30\n",
        "\n",
        "    if row == 3:\n",
        "\n",
        "        pos_x = WIDTH / 3 * 2 + 30\n",
        "\n",
        "    if col == 1:\n",
        "\n",
        "        pos_y = 25\n",
        "\n",
        "    if col == 2:\n",
        "\n",
        "        pos_y = HEIGHT / 3 + 30\n",
        "\n",
        "    if col == 3:\n",
        "\n",
        "        pos_y = HEIGHT / 3 * 2 + 30\n",
        "\n",
        "    grid[row-1][col-1] = current_player\n",
        "\n",
        "    if current_player == 'x':\n",
        "\n",
        "        pg.draw.line(screen, (0, 0, 0), (pos_y, pos_x), (pos_y + size, pos_x + size), 5)\n",
        "\n",
        "        pg.draw.line(screen, (0, 0, 0), (pos_y, pos_x + size), (pos_y + size, pos_x), 5)\n",
        "\n",
        "        current_player = 'o'\n",
        "\n",
        "    else:\n",
        "\n",
        "        center = (pos_y + size // 2, pos_x + size // 2)\n",
        "\n",
        "        radius = size // 2 - 5\n",
        "\n",
        "        pg.draw.circle(screen, (0, 0, 0), center, radius, 5)\n",
        "\n",
        "        current_player = 'x'\n",
        "\n",
        "    pg.display.update()\n",
        "\n"
      ],
      "metadata": {
        "id": "T7doQJsIqv39"
      },
      "execution_count": 13,
      "outputs": []
    },
    {
      "cell_type": "code",
      "source": [
        "def user_click():\n",
        "\n",
        "    \"\"\"finds the position of the user's click\"\"\"\n",
        "\n",
        "    x, y = pg.mouse.get_pos()\n",
        "\n",
        "    if (x < WIDTH / 3):\n",
        "\n",
        "        col = 1\n",
        "\n",
        "    elif (x < WIDTH / 3 * 2):\n",
        "\n",
        "        col = 2\n",
        "\n",
        "    elif (x < WIDTH):\n",
        "\n",
        "        col = 3\n",
        "\n",
        "    else:\n",
        "\n",
        "        col = None\n",
        "\n",
        "    if (y < HEIGHT / 3):\n",
        "\n",
        "        row = 1\n",
        "\n",
        "    elif (y < HEIGHT / 3 * 2):\n",
        "\n",
        "        row = 2\n",
        "\n",
        "    elif (y < HEIGHT):\n",
        "\n",
        "        row = 3\n",
        "\n",
        "    else:\n",
        "\n",
        "        row = None\n",
        "\n",
        "    if (row and col and grid[row-1][col-1] is None):\n",
        "\n",
        "        drawXO(row, col)\n",
        "\n",
        "        check_win()"
      ],
      "metadata": {
        "id": "lRn74WZTq7yy"
      },
      "execution_count": 14,
      "outputs": []
    },
    {
      "cell_type": "code",
      "source": [
        "def reset_game():\n",
        "\n",
        "    \"\"\"restarts game on win or draw\"\"\"\n",
        "\n",
        "    global grid, current_winner, current_player, is_draw\n",
        "\n",
        "    time.sleep(3)\n",
        "\n",
        "    current_player = 'x'\n",
        "\n",
        "    is_draw = False\n",
        "\n",
        "    game_initiating_window()\n",
        "\n",
        "    current_winner = None\n",
        "\n",
        "    grid = [[None]*3, [None]*3, [None]*3]\n",
        "\n",
        "\n",
        "\n",
        "game_initiating_window()\n",
        "\n",
        "\n",
        "\n",
        "while True: # continue loop until user closes the window\n",
        "\n",
        "    for event in pg.event.get(): # check for new events\n",
        "\n",
        "        if event.type == QUIT:\n",
        "\n",
        "            pg.quit()\n",
        "\n",
        "            sys.exit()\n",
        "\n",
        "        elif event.type == MOUSEBUTTONDOWN:\n",
        "\n",
        "            user_click()\n",
        "\n",
        "            if (current_winner or is_draw):\n",
        "\n",
        "                reset_game()\n",
        "\n",
        "    pg.display.update()\n",
        "\n",
        "    clock.tick(FPS)"
      ],
      "metadata": {
        "id": "ZuLHIe8trF5n",
        "outputId": "4aa84918-9c85-44a3-e30e-4c385ec22357",
        "colab": {
          "base_uri": "https://localhost:8080/",
          "height": 176
        }
      },
      "execution_count": 15,
      "outputs": [
        {
          "output_type": "error",
          "ename": "KeyboardInterrupt",
          "evalue": "",
          "traceback": [
            "\u001b[0;31m---------------------------------------------------------------------------\u001b[0m",
            "\u001b[0;31mKeyboardInterrupt\u001b[0m                         Traceback (most recent call last)",
            "\u001b[0;32m<ipython-input-15-f120d1d4b5b2>\u001b[0m in \u001b[0;36m<cell line: 25>\u001b[0;34m()\u001b[0m\n\u001b[1;32m     43\u001b[0m     \u001b[0mpg\u001b[0m\u001b[0;34m.\u001b[0m\u001b[0mdisplay\u001b[0m\u001b[0;34m.\u001b[0m\u001b[0mupdate\u001b[0m\u001b[0;34m(\u001b[0m\u001b[0;34m)\u001b[0m\u001b[0;34m\u001b[0m\u001b[0;34m\u001b[0m\u001b[0m\n\u001b[1;32m     44\u001b[0m \u001b[0;34m\u001b[0m\u001b[0m\n\u001b[0;32m---> 45\u001b[0;31m     \u001b[0mclock\u001b[0m\u001b[0;34m.\u001b[0m\u001b[0mtick\u001b[0m\u001b[0;34m(\u001b[0m\u001b[0mFPS\u001b[0m\u001b[0;34m)\u001b[0m\u001b[0;34m\u001b[0m\u001b[0;34m\u001b[0m\u001b[0m\n\u001b[0m",
            "\u001b[0;31mKeyboardInterrupt\u001b[0m: "
          ]
        }
      ]
    }
  ]
}